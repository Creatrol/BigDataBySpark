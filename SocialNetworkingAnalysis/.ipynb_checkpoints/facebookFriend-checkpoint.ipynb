{
 "cells": [
  {
   "cell_type": "markdown",
   "metadata": {
    "collapsed": true
   },
   "source": [
    "## Facebook Friend"
   ]
  },
  {
   "cell_type": "code",
   "execution_count": null,
   "metadata": {
    "collapsed": true
   },
   "outputs": [],
   "source": [
    "'''\n",
    "@ Title: Exercise to give a list of common friends.\n",
    "@ Author: Puxin Xu\n",
    "@ Time: at 00:40 am EST, Sep 15 Wed, 2016\n",
    "@ IDE: MobaXterm_v9.1\n",
    "'''\n",
    "\n",
    "from __future__ import print_function\n",
    "import sys\n",
    "import re\n",
    "from random import random\n",
    "from operator import add\n",
    "from pyspark import SparkContext\n",
    "from itertools import chain\n",
    "if __name__ == \"__main__\":\n",
    "    sc = SparkContext(appName=\"Facebook\")\n",
    "    data = sc.textFile(\"facebook_small.txt\")\n",
    "# Step1: to flatMap each line to pairs: (key, value), \n",
    "# key is trio one of which is the object in this line; value = 1\n",
    "    def byTrios(line):\n",
    "        List = []\n",
    "        words = re.findall(r\"[\\w']+\",line)\n",
    "        for word in range(1,len(words)-1):\n",
    "            for word2 in range(word+1,len(words)):\n",
    "                friend = [words[0],words[word],words[word2]]\n",
    "                friend.sort()\n",
    "                List.append([(friend[0],friend[1],friend[2]),1])\n",
    "        return List\n",
    "    \n",
    "    trios = data.flatMap(byTrios)\n",
    "    #print(tripairs.take(20))"
   ]
  },
  {
   "cell_type": "markdown",
   "metadata": {},
   "source": [
    "* This step is to do an operation as followed\n",
    "\n",
    "![pic1](1.png)\n",
    "\n",
    "* The reason to set the object and keep it in each trio key is to avoid the trio key like followed which will impact the next step.\n",
    "\n",
    "![pic1](3.png)\n"
   ]
  },
  {
   "cell_type": "code",
   "execution_count": null,
   "metadata": {
    "collapsed": true
   },
   "outputs": [],
   "source": [
    "# Step2: to filter trios which occur less than 3 times    \n",
    "    tris = trios.reduceByKey(add).filter(lambda x: x[1] == 3)\n",
    "    #print(tris.take(40))"
   ]
  },
  {
   "cell_type": "markdown",
   "metadata": {},
   "source": [
    "* This filter operation is based on the simple principle:\n",
    "\n",
    "![pic1](2.png)"
   ]
  },
  {
   "cell_type": "code",
   "execution_count": null,
   "metadata": {
    "collapsed": true
   },
   "outputs": [],
   "source": [
    "# Step3: to transform one trio to three pairs as key and another one as value  \n",
    "    def pairToOneMethod(tri):\n",
    "        return [[(tri[0][0],tri[0][1]),tri[0][2]],[(tri[0][0],tri[0][2]),tri[0][1]],[(tri[0][1],tri[0][2]),tri[0][0]]]\n",
    "    pairToOne = tris.flatMap(pairToOneMethod)\n",
    "    #print(pairToOne.take(20)) "
   ]
  },
  {
   "cell_type": "markdown",
   "metadata": {},
   "source": [
    "* transform ($A, B, C$) to $(A, B) -> C$,  $(A, C) -> B$  and  $(B, C) -> A$\n",
    "* because A, B, C are friends with each other."
   ]
  },
  {
   "cell_type": "code",
   "execution_count": null,
   "metadata": {
    "collapsed": true
   },
   "outputs": [],
   "source": [
    "# Step4: to combine all friends for each key\n",
    "    def groupMethod(a,b):\n",
    "        if (type(a) is list) and (type(b) is list):\n",
    "            out = list(chain(*[a,b]))\n",
    "        elif (type(a) is list) and (type(b) is not list):\n",
    "            out = list(chain(*[a,[b]]))\n",
    "        elif (type(a) is not list) and (type(b) is list):\n",
    "            out =list(chain(*[[a],b]))\n",
    "        else:\n",
    "            out = list(chain(*[[a],[b]]))\n",
    "        out.sort()\n",
    "        return out\n",
    "           \n",
    "    result = pairToOne.reduceByKey(groupMethod)\n",
    "    SortedResult = result.sortBy(lambda x : x[0][0])    \n",
    "    print(SortedResult.take(20))    \n",
    "    sc.stop()  "
   ]
  },
  {
   "cell_type": "markdown",
   "metadata": {},
   "source": [
    "* put all keys' (e.g. $(A, B)$) common friends together into values."
   ]
  }
 ],
 "metadata": {
  "kernelspec": {
   "display_name": "Python 2",
   "language": "python",
   "name": "python2"
  },
  "language_info": {
   "codemirror_mode": {
    "name": "ipython",
    "version": 2
   },
   "file_extension": ".py",
   "mimetype": "text/x-python",
   "name": "python",
   "nbconvert_exporter": "python",
   "pygments_lexer": "ipython2",
   "version": "2.7.11"
  }
 },
 "nbformat": 4,
 "nbformat_minor": 0
}
