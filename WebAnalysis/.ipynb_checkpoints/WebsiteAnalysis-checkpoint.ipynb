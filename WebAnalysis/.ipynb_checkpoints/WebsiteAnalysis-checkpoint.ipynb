{
 "cells": [
  {
   "cell_type": "markdown",
   "metadata": {
    "collapsed": true,
    "slideshow": {
     "slide_type": "-"
    }
   },
   "source": [
    "# Plotting Word Distribution Using Apache Spark"
   ]
  },
  {
   "cell_type": "code",
   "execution_count": null,
   "metadata": {
    "collapsed": true
   },
   "outputs": [],
   "source": [
    "'''\n",
    "@ Author: Puxin Xu\n",
    "@ Time: at 16:00 pm EST, Sep 19 Mon, 2016\n",
    "@ IDE: MobaXterm_v9.1 / Jupyter Notebook\n",
    "@ Platform: Ubuntu 16.04\n",
    "'''\n",
    "\n",
    "from __future__ import print_function\n",
    "import sys\n",
    "import re\n",
    "from random import random\n",
    "from operator import add\n",
    "from pyspark import SparkContext\n",
    "from itertools import chain\n",
    "if __name__ == \"__main__\":\n",
    "    sc = SparkContext(appName=\"Wikipedia\")\n",
    "    data = sc.textFile(\"....\")\n",
    "    def countWords(line):\n",
    "        count = []\n",
    "        words = line.split(' ')\n",
    "        for word in words:\n",
    "            word = word.lower()\n",
    "            word = re.sub(r'\\W+', '', word)\n",
    "            if word == '':\n",
    "                continue  \n",
    "            else:\n",
    "                count.append((word,1))\n",
    "        return count\n",
    "    counts = data.flatMap(countWords)\n",
    "    #print(counts.take(10)) \n",
    "    totalCounts = counts.reduceByKey(add)    \n",
    "    #print(totalCounts.take(20))\n",
    "    totalCountsSorted = totalCounts.sortBy(lambda x: x[1], False)\n",
    "    #print(totalCountsSorted.take(20))\n",
    "    \n",
    "    \n",
    "# to find how many unique words in the file\n",
    "    uniqueWords = totalCounts.map(lambda x: 1)   \n",
    "    totalUniqueWords = uniqueWords.reduce(add)\n",
    "    print(\"The total unique words is\",totalUniqueWords)\n",
    "    \n",
    "    \n",
    "# to save the word and count into a txt file\n",
    "    file = open(\"output.txt\", \"w\")\n",
    "    arr = totalCountsSorted.collect()\n",
    "    # take top 1000\n",
    "    #arr = totalCountsSorted.take(1000)\n",
    "    #print(arr)\n",
    "    for word in arr:\n",
    "        file.write(str(word[0])+ ' '+ str(word[1])+'\\n')    \n",
    "    file.close()          \n",
    "    sc.stop()  "
   ]
  },
  {
   "cell_type": "markdown",
   "metadata": {},
   "source": [
    "## Plot the function $f(x)$\n",
    "* default D is 50"
   ]
  },
  {
   "cell_type": "code",
   "execution_count": 2,
   "metadata": {
    "collapsed": false,
    "scrolled": true
   },
   "outputs": [
    {
     "data": {
      "image/png": "[encoded data removed]",
      "text/plain": [
       "<matplotlib.figure.Figure at 0x7fe7d37c0d50>"
      ]
     },
     "metadata": {},
     "output_type": "display_data"
    }
   ],
   "source": [
    "if __name__ == \"__main__\":\n",
    "    file = open('outputSmall.txt')\n",
    "    listOfFre = []\n",
    "    for line in file:\n",
    "        lineList = line.split()\n",
    "        listOfFre.append(lineList[1])\n",
    "    # set the D, number of elements of subset with top D frequence\n",
    "    D = 50\n",
    "    subset = listOfFre[:D]\n",
    "    plt.plot(range(D), subset)\n",
    "    file.close()"
   ]
  },
  {
   "cell_type": "markdown",
   "metadata": {},
   "source": [
    "## Fit function $f(x)$ by exponential law $g(x) = ce^{-ax}$\n",
    "\n",
    "* For 1 norm, Gradient decsent, using subgradient by shrinkage operation.\n",
    "* For 2 norm, set gradient to 0, calculate it.\n",
    "* For inf norm, Gradient descent, using $f(x) = 1-e^{-x}$ to smooth the gradient."
   ]
  },
  {
   "cell_type": "markdown",
   "metadata": {
    "collapsed": true
   },
   "source": [
    "# Find Popular URL from Apache logs"
   ]
  },
  {
   "cell_type": "code",
   "execution_count": null,
   "metadata": {
    "collapsed": true
   },
   "outputs": [],
   "source": [
    "'''\n",
    "@ Author: Puxin Xu\n",
    "@ Time: at 09:48 pm EST, Sep 20 Tue, 2016\n",
    "@ IDE: MobaXterm_v9.1 / Jupyter Notebook\n",
    "@ Platform: Ubuntu 16.04\n",
    "'''\n",
    "\n",
    "from __future__ import print_function\n",
    "import sys\n",
    "import re\n",
    "from random import random\n",
    "from operator import add\n",
    "from pyspark import SparkContext\n",
    "from itertools import chain\n",
    "import matplotlib.pyplot as plt\n",
    "from pandas import DataFrame, Series\n",
    "import pandas as pd; import numpy as np\n",
    "if __name__ == \"__main__\":\n",
    "    sc = SparkContext(appName=\"Wikipedia\")\n",
    "    data = sc.textFile(\"....\")\n",
    "\n",
    "    def isEnWeb(s):\n",
    "        choice = 0\n",
    "        if 'http://en.wikipedia.org' in s[0]:\n",
    "            choice = 1\n",
    "        return choice\n",
    "    def extractWeb(line):\n",
    "            lineList = line.split(' ')\n",
    "            return (lineList[2],1)\n",
    "    allWebLog = data.map(extractWeb).filter(isEnWeb) \n",
    "    #print(allWebLog.take(10))      \n",
    "    filterList = [\".jpg\",\".png\",\".js\",\".css\",\".gif\",\n",
    "    \"title=\",\"monobook\",\".php\",\".ico\",\"special:\"]\n",
    "    def aFilter(x):\n",
    "        choice = 1\n",
    "        for word in filterList:\n",
    "            if word in x[0][-10:].lower():\n",
    "                choice = 0\n",
    "        return choice    \n",
    "    countPages = allWebLog.filter(aFilter).reduceByKey(add).sortBy(lambda x:x[1],False)    \n",
    "    print(countPages.take(10))\n",
    "    \n",
    "    \n",
    "# How many pages in total were accessed?\n",
    "    totalPages = countPages.map(lambda x: x[1]).reduce(add)\n",
    "    print('total accessed pages are ' + str(totalPages))    \n",
    "    \n",
    "    \n",
    "# How many different pages were accessed?\n",
    "    totalDiffPages = countPages.map(lambda x: 1).reduce(add)\n",
    "    print('total different accessed pages are ' + str(totalDiffPages))    \n",
    "# Top 40\n",
    "    top40 = countPages.take(40)    \n",
    "    #print(top40)    \n",
    "    \n",
    "    \n",
    "# to save the top 40 weds into a txt file\n",
    "    file = open(\"webOutput.txt\", \"w\")\n",
    "    webs = top40\n",
    "    #print(arr)\n",
    "    for web in webs:\n",
    "        file.write(str(web[0])+ ' '+ str(web[1])+'\\n')    \n",
    "    file.close()\n",
    "    sc.stop()  "
   ]
  },
  {
   "cell_type": "markdown",
   "metadata": {
    "collapsed": true
   },
   "source": [
    "## Top 40 Webs"
   ]
  },
  {
   "cell_type": "code",
   "execution_count": 4,
   "metadata": {
    "collapsed": false
   },
   "outputs": [
    {
     "name": "stdout",
     "output_type": "stream",
     "text": [
      "http://en.wikipedia.org/w/index.php?title=MediaWiki:Common.css&usemsgcache=yes&action=raw&ctype=text/css&smaxage=2678400\n",
      "http://en.wikipedia.org/w/index.php?title=MediaWiki:Monobook.css&usemsgcache=yes&action=raw&ctype=text/css&smaxage=2678400\n",
      "http://en.wikipedia.org/w/index.php?title=-&action=raw&gen=css&maxage=2678400\n",
      "http://en.wikipedia.org/wiki/Special:Random\n",
      "http://en.wikipedia.org/wiki/Main_Page\n",
      "http://en.wikipedia.org/style/monobook/null?\"{\n",
      "http://en.wikipedia.org/\n",
      "http://en.wikipedia.org/wiki/\n",
      "http://en.wikipedia.org/w/index.php?title=Mediawiki:Wikimediaplayer.js&action=raw&ctype=text/javascript&smaxage=86400\n",
      "http://en.wikipedia.org/wiki/Wiki\n",
      "http://en.wikipedia.org/wiki/Special:Watchlist\n",
      "http://en.wikipedia.org/wiki/Jena_Six\n",
      "http://en.wikipedia.org/w/index.php?title=MediaWiki:Geshi.css&usemsgcache=yes&action=raw&ctype=text/css&smaxage=2678400\n",
      "http://en.wikipedia.org/wiki/International_Talk_Like_a_Pirate_Day\n",
      "http://en.wikipedia.org/MSOffice/cltreq.asp?UL=1&ACT=4&BUILD=6551&STRMVER=4&CAPREQ=0\n",
      "http://en.wikipedia.org/_vti_bin/owssvr.dll?UL=1&ACT=4&BUILD=6551&STRMVER=4&CAPREQ=0\n",
      "http://en.wikipedia.org/w/index.php?title=Special:Contributions&contribs=newbie&limit=5&VoABotaction=RCpatrol&useskin=chick\n",
      "http://en.wikipedia.org/wiki/Special:Search?search=&go=Go\n",
      "http://en.wikipedia.org/w/wiki.phtml?title=User:%C6var_Arnfj%F6r%F0_Bjarmason/monobook.css&action=raw&ctype=text/css\n",
      "http://en.wikipedia.org/wiki/Wikipedia\n",
      "http://en.wikipedia.org/wiki/Portal:Current_events\n",
      "http://en.wikipedia.org/wiki/Halo_3\n",
      "http://en.wikipedia.org/w/index.php?title=Mediawiki:Wikimediaplayer.js&action=raw&ctype=text/javascript&dontcountme=s\n",
      "http://en.wikipedia.org/wiki/United_States\n",
      "http://en.wikipedia.org/wiki/Wikipedia:Contents\n",
      "http://en.wikipedia.org/wiki/Special:Search?search=&fulltext=Search\n",
      "http://en.wikipedia.org/wiki/Naruto\n",
      "http://en.wikipedia.org/wiki/Ireland\n",
      "http://en.wikipedia.org/wiki/Wikipedia:Featured_content\n",
      "http://en.wikipedia.org/wiki/Deaths_in_2007\n",
      "http://en.wikipedia.org/robots.txt\n",
      "http://en.wikipedia.org/wiki/Special:Export\n",
      "http://en.wikipedia.org/wiki/O.J._Simpson\n",
      "http://en.wikipedia.org/wiki/Guitar_Hero_III:_Legends_of_Rock\n",
      "http://en.wikipedia.org/wiki/HTTP\n",
      "http://en.wikipedia.org/wiki/MySpace\n",
      "http://en.wikipedia.org/wiki/Vanessa_Hudgens\n",
      "http://en.wikipedia.org/wiki/Sex\n",
      "http://en.wikipedia.org/wiki/Yom_Kippur\n",
      "http://en.wikipedia.org/wiki/Jena,_Louisiana\n"
     ]
    }
   ],
   "source": [
    "import matplotlib.pyplot as plt\n",
    "if __name__ == \"__main__\":\n",
    "    file = open('webOutputLarge.txt')\n",
    "    listOfWeb = []\n",
    "    for line in file:\n",
    "        lineList = line.split()\n",
    "        print(lineList[0]) "
   ]
  }
 ],
 "metadata": {
  "kernelspec": {
   "display_name": "Python 2",
   "language": "python",
   "name": "python2"
  },
  "language_info": {
   "codemirror_mode": {
    "name": "ipython",
    "version": 2
   },
   "file_extension": ".py",
   "mimetype": "text/x-python",
   "name": "python",
   "nbconvert_exporter": "python",
   "pygments_lexer": "ipython2",
   "version": "2.7.11"
  }
 },
 "nbformat": 4,
 "nbformat_minor": 0
}
