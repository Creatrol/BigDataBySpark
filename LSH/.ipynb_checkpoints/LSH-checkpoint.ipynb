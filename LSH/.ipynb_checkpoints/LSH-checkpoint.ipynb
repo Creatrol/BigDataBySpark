{
 "cells": [
  {
   "cell_type": "markdown",
   "metadata": {},
   "source": [
    "# LSH"
   ]
  },
  {
   "cell_type": "markdown",
   "metadata": {},
   "source": [
    "\n",
    "* Assumption: the similarity is following a discrete distribution: (to make life easier)\n",
    "\n",
    "$P(s = X) = 0.01,\\ \\ \\ \\ \\ \\ \\ \\ \\ \\ \\ \\ \\ \\ \\ \\ for\\ X = 0.01, 0.02, 0.03,....,1$"
   ]
  },
  {
   "cell_type": "markdown",
   "metadata": {},
   "source": [
    "* $Confidence(X) = \\frac{\\sum_{x=X}^1 P(s = x) P(s\\ is\\ hitten\\ |\\ s =x )}{\\sum_{x=X}^1 P(s = x)}$\n",
    "\n",
    "* for uniform distribution:\n",
    "* $Confidence(X) = \\int_X^1 f(x) P(s\\ is\\ hitten\\ |\\ s =x ) \\mathrm{d}x$"
   ]
  },
  {
   "cell_type": "markdown",
   "metadata": {},
   "source": [
    "## Signitures"
   ]
  },
  {
   "cell_type": "code",
   "execution_count": null,
   "metadata": {
    "collapsed": true
   },
   "outputs": [],
   "source": [
    "from __future__ import print_function\n",
    "import sys\n",
    "import re\n",
    "import numpy as np\n",
    "from operator import add\n",
    "from pyspark import SparkContext\n",
    "from functools import partial\n",
    "\n",
    "if __name__ == \"__main__\":\n",
    "    sc = SparkContext(appName=\"LSH\")\n",
    "    \n",
    "    signatureLength = 20\n",
    "    shingleLength = 5 \n",
    "    As = np.array([   [ np.random.randint(10000)]   for j in xrange(signatureLength) ])\n",
    "    Bs = np.array([   [ np.random.randint(10000)]   for j in xrange(signatureLength) ])  \n",
    "       \n",
    "    N = 452930477 \n",
    "    p = 961748941 \n",
    "                   \n",
    "    def getSignatures(item):\n",
    "        item = item.split(\";\")\n",
    "        key = item[0]\n",
    "        text = (item[1]).lower()\n",
    "        textLength = len(text)\n",
    "        value = []\n",
    "        v = []\n",
    "        if (textLength > shingleLength):\n",
    "            v = [N for i in xrange(signatureLength)]\n",
    "            value = [ hash(text[i:i + shingleLength])  for  i in xrange(textLength - shingleLength)  ]\n",
    "            value = np.array(value)        \n",
    "            value = As * value + Bs\n",
    "            value = np.array(np.remainder(np.remainder(value, p), N))\n",
    "            x, y = value.shape\n",
    "            if y >= 1:\n",
    "                v = value.min(axis=1)\n",
    "\n",
    "        return [key, v]\n",
    "\n",
    "    filename = \"....\"\n",
    "    lines = sc.textFile(filename,8)\n",
    "    signatures = lines.filter(lambda line: len(line)>3000).map(getSignatures)     \n",
    "    for e in signatures.filter(lambda text: \"test\" in text[0]).collect():\n",
    "    print (e)    \n",
    "    sc.stop()\n"
   ]
  },
  {
   "cell_type": "markdown",
   "metadata": {},
   "source": [
    "## Local Sensitive Hashing and Analysis"
   ]
  },
  {
   "cell_type": "code",
   "execution_count": null,
   "metadata": {
    "collapsed": true
   },
   "outputs": [],
   "source": [
    "from __future__ import print_function\n",
    "import sys\n",
    "import re\n",
    "import math\n",
    "import numpy as np\n",
    "from operator import add\n",
    "from pyspark import SparkContext\n",
    "from functools import partial\n",
    "if __name__ == \"__main__\":\n",
    "    sc = SparkContext(appName=\"LSH\")\n",
    "    np.random.seed(10)\n",
    "    signatures = sc.pickleFile(\"....\")\n",
    "    bands = 8\n",
    "    rowsPerBand = 25\n",
    "        \n",
    "    def doLSH(data):\n",
    "            key=data[0]\n",
    "            val=data[1]\n",
    "            out=[]\n",
    "            if (len(val)>=rowsPerBand*bands):\n",
    "                for i in xrange(bands):\n",
    "                    hv =hash(str(val[i*rowsPerBand : (i+1)*rowsPerBand] ))\n",
    "                    out+= [ [hv, key ] ]       \n",
    "                return out\n",
    "                  \n",
    "    LSH = signatures.flatMap(doLSH).groupByKey().filter(lambda data: len(list(data[1]))>1   )\n",
    "    #print(\"----------  LSH done -------\")\n",
    "    total = 0\n",
    "    totalPairs = 0    \n",
    "    for e in LSH.collect():\n",
    "        total = total + 1\n",
    "        totalPairs = totalPairs + math.factorial(len(e[1]))/2/math.factorial(len(e[1])-2)    \n",
    "    candidateList = []\n",
    "    groupsList = LSH.collect()\n",
    "    for e in groupsList:\n",
    "        for j in e[1]:\n",
    "            if j not in candidateList:\n",
    "                candidateList.append(j)\n",
    "\n",
    "# go back to filter in raw data                  \n",
    "    filename = \"/scratch/ISE495/hw2/wikipedia_large.txt\"\n",
    "    lines = sc.textFile(filename,8)\n",
    "    def filter1(item):\n",
    "        item = item.split(\";\")\n",
    "        key = item[0]\n",
    "        if key in candidateList:\n",
    "            return 1\n",
    "        else:\n",
    "            return 0\n",
    "            \n",
    "    # k-shingles                    \n",
    "    shingleLength = 5            \n",
    "    def kshingles(item):\n",
    "        item = item.split(\";\")\n",
    "        key = item[0]\n",
    "        text = (item[1]).lower()\n",
    "        textLength = len(text)\n",
    "        value = []\n",
    "        if (textLength > shingleLength):\n",
    "            value = [ hash(text[i:i + shingleLength])\\\n",
    "              for  i in xrange(textLength - shingleLength)  ]\n",
    "        return [key,value]      \n",
    "    afterFilter = lines.filter(lambda line: len(line)>3000).filter(filter1)\n",
    "    candidates = afterFilter.map(kshingles).collect()\n",
    "    \n",
    "    # organize pairs    \n",
    "    pairsList = []\n",
    "    for group in groupsList:\n",
    "        groups = group[1]\n",
    "        groups = sorted(groups)\n",
    "        #print(groups)\n",
    "        for i in range(len(groups)-1):\n",
    "            for j in range(i+1,len(groups)):\n",
    "                pairsList.append([groups[i],groups[j]])    \n",
    "    #print(pairsList[0])\n"
   ]
  },
  {
   "cell_type": "code",
   "execution_count": null,
   "metadata": {
    "collapsed": true
   },
   "outputs": [],
   "source": [
    "    \n",
    "    # match pairs and k-shingles\n",
    "    def merge(inputL):\n",
    "        apairsList = inputL\n",
    "        result = []\n",
    "        for pair in range(len(apairsList)):\n",
    "            for candidate in range(len(candidates)):\n",
    "                if candidates[candidate][0] == apairsList[pair][0]:        \n",
    "                    p1 = candidates[candidate]\n",
    "                if candidates[candidate][0] == apairsList[pair][1]:\n",
    "                    p2 = candidates[candidate]\n",
    "            result.append([p1,p2])\n",
    "        return result\n",
    "    finalPairs = merge(pairsList)\n",
    "    #print(finalPairs[0])\n",
    "    \n",
    "    ## Calculate Jaccord Similarity                                         \n",
    "    def JaccordSimilarity(pairs):\n",
    "        if len(pairs[0])==2 and len(pairs[1])==2:\n",
    "            union = set(pairs[0][1]).union(set(pairs[1][1]))\n",
    "            intersection = set(pairs[0][1]).intersection(set(pairs[1][1]))\n",
    "            JaccordS = float(len(intersection)) / float(len(union))\n",
    "            return JaccordS\n",
    "        else:\n",
    "            return None\n",
    "    total = 0\n",
    "    false = 0\n",
    "    for pairs in finalPairs:\n",
    "        Jaccord = JaccordSimilarity(pairs)\n",
    "        print('-----------------')\n",
    "        print(pairs[0][0],pairs[1][0])\n",
    "        print('Jaccord Similarity is ' + str(Jaccord))\n",
    "        total += 1\n",
    "        if Jaccord <0.99:\n",
    "            false += 1\n",
    "    print('------False Positive Rate----')\n",
    "    rate = false / float(total)\n",
    "    print(rate)    \n",
    "    sc.stop()"
   ]
  }
 ],
 "metadata": {
  "kernelspec": {
   "display_name": "Python 2",
   "language": "python",
   "name": "python2"
  },
  "language_info": {
   "codemirror_mode": {
    "name": "ipython",
    "version": 2
   },
   "file_extension": ".py",
   "mimetype": "text/x-python",
   "name": "python",
   "nbconvert_exporter": "python",
   "pygments_lexer": "ipython2",
   "version": "2.7.11"
  }
 },
 "nbformat": 4,
 "nbformat_minor": 0
}
